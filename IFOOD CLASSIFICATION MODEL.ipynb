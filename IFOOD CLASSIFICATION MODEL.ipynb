{
 "cells": [
  {
   "cell_type": "markdown",
   "id": "283a7470",
   "metadata": {},
   "source": [
    "## Libraries "
   ]
  },
  {
   "cell_type": "code",
   "execution_count": 35,
   "id": "f48a6872",
   "metadata": {},
   "outputs": [],
   "source": [
    "import numpy as np\n",
    "import pandas as pd\n",
    "import pickle\n",
    "from sklearn.preprocessing import StandardScaler\n"
   ]
  },
  {
   "cell_type": "markdown",
   "id": "d5a15d8a",
   "metadata": {},
   "source": [
    "### Extract the data from the csv "
   ]
  },
  {
   "cell_type": "code",
   "execution_count": 33,
   "id": "bbd9bb8f",
   "metadata": {},
   "outputs": [],
   "source": [
    "raw_csv_data = np.loadtxt(\"C:/IFOOD/Ifood_25.csv\",delimiter=',')\n",
    "\n",
    "unscaled_inputs_all = raw_csv_data[:,0:-1]\n",
    "\n",
    "#Targets\n",
    "targetsv= raw_csv_data[:,-1]"
   ]
  },
  {
   "cell_type": "markdown",
   "id": "1ba15993",
   "metadata": {},
   "source": [
    "## Balance the dataset "
   ]
  },
  {
   "cell_type": "code",
   "execution_count": 34,
   "id": "5ed215a8",
   "metadata": {},
   "outputs": [],
   "source": [
    "#using a manual approach \n",
    "#count how many targets\n",
    "num_one_targets = int(np.sum(targetsv))\n",
    "zero_targets_counter = 0\n",
    "indices_to_remove = []\n",
    "for i in range(targetsv.shape[0]):\n",
    "    if targetsv[i] == 0:\n",
    "        zero_targets_counter += 1\n",
    "        if zero_targets_counter > num_one_targets:\n",
    "            indices_to_remove.append(i)\n",
    "            \n",
    "#creating two variables to contain inputs and targets\n",
    "unscaled_inputs_equal_priors = np.delete(unscaled_inputs_all, indices_to_remove, axis=0)\n",
    "targets_equal_priors = np.delete(targetsv, indices_to_remove, axis=0)"
   ]
  },
  {
   "cell_type": "markdown",
   "id": "34ae1dc1",
   "metadata": {},
   "source": [
    "## Standardize the inputs "
   ]
  },
  {
   "cell_type": "code",
   "execution_count": 37,
   "id": "6740f6cb",
   "metadata": {},
   "outputs": [],
   "source": [
    "scaler_deep_learning = StandardScaler()\n",
    "scaled_inputs = scaler_deep_learning.fit_transform(unscaled_inputs_equal_priors)"
   ]
  },
  {
   "cell_type": "markdown",
   "id": "2e21cff1",
   "metadata": {},
   "source": [
    "## Shuffle the data  "
   ]
  },
  {
   "cell_type": "code",
   "execution_count": 38,
   "id": "4bced294",
   "metadata": {},
   "outputs": [],
   "source": [
    "shuffled_indices = np.arange(scaled_inputs.shape[0])\n",
    "np.random.shuffle(shuffled_indices)\n",
    "\n",
    "# Using  the shuffled indices to shuffle the inputs and targets.\n",
    "shuffled_inputs = scaled_inputs[shuffled_indices]\n",
    "shuffled_targets = targets_equal_priors[shuffled_indices]"
   ]
  },
  {
   "cell_type": "markdown",
   "id": "aa5c6d78",
   "metadata": {},
   "source": [
    "## Split the dataset into train, validatio, and test "
   ]
  },
  {
   "cell_type": "code",
   "execution_count": 39,
   "id": "2422ee82",
   "metadata": {},
   "outputs": [
    {
     "name": "stdout",
     "output_type": "stream",
     "text": [
      "262.0 532 0.4924812030075188\n",
      "30.0 66 0.45454545454545453\n",
      "41.0 68 0.6029411764705882\n"
     ]
    }
   ],
   "source": [
    "samples_count = shuffled_inputs.shape[0]\n",
    "\n",
    "train_samples_count = int(0.8 * samples_count)\n",
    "validation_samples_count = int(0.1 * samples_count)\n",
    "\n",
    "test_samples_count = samples_count - train_samples_count - validation_samples_count\n",
    "\n",
    "train_inputs = shuffled_inputs[:train_samples_count]\n",
    "train_targets = shuffled_targets[:train_samples_count]\n",
    "\n",
    "validation_inputs = shuffled_inputs[train_samples_count:train_samples_count+validation_samples_count]\n",
    "validation_targets = shuffled_targets[train_samples_count:train_samples_count+validation_samples_count]\n",
    "\n",
    "test_inputs = shuffled_inputs[train_samples_count+validation_samples_count:]\n",
    "test_targets = shuffled_targets[train_samples_count+validation_samples_count:]\n",
    "\n",
    "print(np.sum(train_targets), train_samples_count, np.sum(train_targets) / train_samples_count)\n",
    "print(np.sum(validation_targets), validation_samples_count, np.sum(validation_targets) / validation_samples_count)\n",
    "print(np.sum(test_targets), test_samples_count, np.sum(test_targets) / test_samples_count)\n"
   ]
  },
  {
   "cell_type": "markdown",
   "id": "3dfa26c1",
   "metadata": {},
   "source": [
    "## Save the three dataset as npz "
   ]
  },
  {
   "cell_type": "code",
   "execution_count": 40,
   "id": "fa48419b",
   "metadata": {},
   "outputs": [],
   "source": [
    "np.savez(\"C:/IFOOD/ifood_data_train\", inputs=train_inputs, targets=train_targets)\n",
    "np.savez(\"C:/IFOOD/ifood_data_validation\", inputs=validation_inputs, targets=validation_targets)\n",
    "np.savez(\"C:/IFOOD/ifood_data_test\", inputs=test_inputs, targets=test_targets)"
   ]
  },
  {
   "cell_type": "markdown",
   "id": "258efaf3",
   "metadata": {},
   "source": [
    "## Save the scaler "
   ]
  },
  {
   "cell_type": "code",
   "execution_count": 42,
   "id": "36b11883",
   "metadata": {},
   "outputs": [],
   "source": [
    "pickle.dump(scaler_deep_learning, open(\"C:/IFOOD/scaler_deep_learning.pickle\", 'wb'))"
   ]
  },
  {
   "cell_type": "code",
   "execution_count": null,
   "id": "cda5102b",
   "metadata": {},
   "outputs": [],
   "source": []
  }
 ],
 "metadata": {
  "kernelspec": {
   "display_name": "Python 3",
   "language": "python",
   "name": "python3"
  },
  "language_info": {
   "codemirror_mode": {
    "name": "ipython",
    "version": 3
   },
   "file_extension": ".py",
   "mimetype": "text/x-python",
   "name": "python",
   "nbconvert_exporter": "python",
   "pygments_lexer": "ipython3",
   "version": "3.8.8"
  }
 },
 "nbformat": 4,
 "nbformat_minor": 5
}
