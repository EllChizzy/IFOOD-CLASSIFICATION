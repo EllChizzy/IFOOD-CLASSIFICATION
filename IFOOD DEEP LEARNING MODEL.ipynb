{
 "cells": [
  {
   "cell_type": "markdown",
   "id": "cd76bb58",
   "metadata": {},
   "source": [
    "## Create the machine learning  "
   ]
  },
  {
   "cell_type": "markdown",
   "id": "9ec3f420",
   "metadata": {},
   "source": [
    "### Import the relevant libraries"
   ]
  },
  {
   "cell_type": "code",
   "execution_count": 1,
   "id": "34a075ff",
   "metadata": {},
   "outputs": [],
   "source": [
    "import numpy as np\n",
    "import tensorflow as tf"
   ]
  },
  {
   "cell_type": "markdown",
   "id": "3e852dc7",
   "metadata": {},
   "source": [
    "### Data"
   ]
  },
  {
   "cell_type": "code",
   "execution_count": 2,
   "id": "ef2081e3",
   "metadata": {},
   "outputs": [
    {
     "name": "stderr",
     "output_type": "stream",
     "text": [
      "<ipython-input-2-151cd37ce3e7>:2: DeprecationWarning: `np.float` is a deprecated alias for the builtin `float`. To silence this warning, use `float` by itself. Doing this will not modify any behavior and is safe. If you specifically wanted the numpy scalar type, use `np.float64` here.\n",
      "Deprecated in NumPy 1.20; for more details and guidance: https://numpy.org/devdocs/release/1.20.0-notes.html#deprecations\n",
      "  train_inputs = npz['inputs'].astype(np.float)\n",
      "<ipython-input-2-151cd37ce3e7>:3: DeprecationWarning: `np.int` is a deprecated alias for the builtin `int`. To silence this warning, use `int` by itself. Doing this will not modify any behavior and is safe. When replacing `np.int`, you may wish to use e.g. `np.int64` or `np.int32` to specify the precision. If you wish to review your current use, check the release note link for additional information.\n",
      "Deprecated in NumPy 1.20; for more details and guidance: https://numpy.org/devdocs/release/1.20.0-notes.html#deprecations\n",
      "  train_targets = npz['targets'].astype(np.int)\n",
      "<ipython-input-2-151cd37ce3e7>:6: DeprecationWarning: `np.float` is a deprecated alias for the builtin `float`. To silence this warning, use `float` by itself. Doing this will not modify any behavior and is safe. If you specifically wanted the numpy scalar type, use `np.float64` here.\n",
      "Deprecated in NumPy 1.20; for more details and guidance: https://numpy.org/devdocs/release/1.20.0-notes.html#deprecations\n",
      "  validation_inputs, validation_targets = npz['inputs'].astype(np.float), npz['targets'].astype(np.int)\n",
      "<ipython-input-2-151cd37ce3e7>:6: DeprecationWarning: `np.int` is a deprecated alias for the builtin `int`. To silence this warning, use `int` by itself. Doing this will not modify any behavior and is safe. When replacing `np.int`, you may wish to use e.g. `np.int64` or `np.int32` to specify the precision. If you wish to review your current use, check the release note link for additional information.\n",
      "Deprecated in NumPy 1.20; for more details and guidance: https://numpy.org/devdocs/release/1.20.0-notes.html#deprecations\n",
      "  validation_inputs, validation_targets = npz['inputs'].astype(np.float), npz['targets'].astype(np.int)\n",
      "<ipython-input-2-151cd37ce3e7>:9: DeprecationWarning: `np.float` is a deprecated alias for the builtin `float`. To silence this warning, use `float` by itself. Doing this will not modify any behavior and is safe. If you specifically wanted the numpy scalar type, use `np.float64` here.\n",
      "Deprecated in NumPy 1.20; for more details and guidance: https://numpy.org/devdocs/release/1.20.0-notes.html#deprecations\n",
      "  test_inputs, test_targets = npz['inputs'].astype(np.float), npz['targets'].astype(np.int)\n",
      "<ipython-input-2-151cd37ce3e7>:9: DeprecationWarning: `np.int` is a deprecated alias for the builtin `int`. To silence this warning, use `int` by itself. Doing this will not modify any behavior and is safe. When replacing `np.int`, you may wish to use e.g. `np.int64` or `np.int32` to specify the precision. If you wish to review your current use, check the release note link for additional information.\n",
      "Deprecated in NumPy 1.20; for more details and guidance: https://numpy.org/devdocs/release/1.20.0-notes.html#deprecations\n",
      "  test_inputs, test_targets = npz['inputs'].astype(np.float), npz['targets'].astype(np.int)\n"
     ]
    }
   ],
   "source": [
    "npz = np.load(\"C:/IFOOD/ifood_data_train.npz\")\n",
    "train_inputs = npz['inputs'].astype(np.float)\n",
    "train_targets = npz['targets'].astype(np.int)\n",
    "\n",
    "npz = np.load(\"C:/IFOOD/ifood_data_validation.npz\")\n",
    "validation_inputs, validation_targets = npz['inputs'].astype(np.float), npz['targets'].astype(np.int)\n",
    "\n",
    "npz = np.load(\"C:/IFOOD/ifood_data_test.npz\")\n",
    "test_inputs, test_targets = npz['inputs'].astype(np.float), npz['targets'].astype(np.int)"
   ]
  },
  {
   "cell_type": "markdown",
   "id": "5b6ed7cc",
   "metadata": {},
   "source": [
    "### Model "
   ]
  },
  {
   "cell_type": "markdown",
   "id": "e8ce4d9e",
   "metadata": {},
   "source": [
    "Outline, optimizers, loss, early stopping and training"
   ]
  },
  {
   "cell_type": "code",
   "execution_count": 34,
   "id": "8f5af5ba",
   "metadata": {},
   "outputs": [
    {
     "name": "stdout",
     "output_type": "stream",
     "text": [
      "Epoch 1/100\n",
      "6/6 - 0s - loss: 0.6647 - accuracy: 0.6015 - val_loss: 0.6861 - val_accuracy: 0.5909 - 461ms/epoch - 77ms/step\n",
      "Epoch 2/100\n",
      "6/6 - 0s - loss: 0.5804 - accuracy: 0.6823 - val_loss: 0.6366 - val_accuracy: 0.6818 - 41ms/epoch - 7ms/step\n",
      "Epoch 3/100\n",
      "6/6 - 0s - loss: 0.5307 - accuracy: 0.7180 - val_loss: 0.6109 - val_accuracy: 0.6970 - 33ms/epoch - 6ms/step\n",
      "Epoch 4/100\n",
      "6/6 - 0s - loss: 0.4927 - accuracy: 0.7763 - val_loss: 0.5976 - val_accuracy: 0.6970 - 37ms/epoch - 6ms/step\n",
      "Epoch 5/100\n",
      "6/6 - 0s - loss: 0.4593 - accuracy: 0.7914 - val_loss: 0.5911 - val_accuracy: 0.7424 - 37ms/epoch - 6ms/step\n",
      "Epoch 6/100\n",
      "6/6 - 0s - loss: 0.4329 - accuracy: 0.8102 - val_loss: 0.5826 - val_accuracy: 0.7424 - 34ms/epoch - 6ms/step\n",
      "Epoch 7/100\n",
      "6/6 - 0s - loss: 0.4105 - accuracy: 0.8327 - val_loss: 0.5756 - val_accuracy: 0.7424 - 39ms/epoch - 6ms/step\n",
      "Epoch 8/100\n",
      "6/6 - 0s - loss: 0.3903 - accuracy: 0.8459 - val_loss: 0.5722 - val_accuracy: 0.7424 - 36ms/epoch - 6ms/step\n",
      "Epoch 9/100\n",
      "6/6 - 0s - loss: 0.3709 - accuracy: 0.8534 - val_loss: 0.5740 - val_accuracy: 0.7273 - 36ms/epoch - 6ms/step\n",
      "Epoch 10/100\n",
      "6/6 - 0s - loss: 0.3569 - accuracy: 0.8553 - val_loss: 0.5734 - val_accuracy: 0.7273 - 51ms/epoch - 8ms/step\n"
     ]
    },
    {
     "data": {
      "text/plain": [
       "<keras.callbacks.History at 0x2030722cd90>"
      ]
     },
     "execution_count": 34,
     "metadata": {},
     "output_type": "execute_result"
    }
   ],
   "source": [
    "output_size = 2\n",
    "hidden_layer_size = 50\n",
    "\n",
    "\n",
    "model = tf.keras.Sequential([\n",
    "    \n",
    "    tf.keras.layers.Dense(hidden_layer_size, activation='relu'), # 1st hidden layer\n",
    "    tf.keras.layers.Dense(hidden_layer_size, activation='relu'), # 2nd hidden layer\n",
    "    tf.keras.layers.Dense(output_size, activation='softmax') # output layer\n",
    "])\n",
    "\n",
    "model.compile(optimizer='adam', loss='sparse_categorical_crossentropy', metrics=['accuracy'])\n",
    "### Training\n",
    "\n",
    "# set the batch size\n",
    "batch_size = 100\n",
    "\n",
    "# set a maximum number of training epochs\n",
    "max_epochs = 100\n",
    "\n",
    "#Setting early stopping\n",
    "early_stopping = tf.keras.callbacks.EarlyStopping(patience=2)\n",
    "\n",
    "#fitting the model\n",
    "model.fit(train_inputs, \n",
    "          train_targets, \n",
    "          batch_size=batch_size, \n",
    "          epochs=max_epochs, \n",
    "          callbacks=[early_stopping], \n",
    "          validation_data=(validation_inputs, validation_targets),\n",
    "          verbose = 2 \n",
    "          )  "
   ]
  },
  {
   "cell_type": "markdown",
   "id": "3df7c398",
   "metadata": {},
   "source": [
    "## Test the model "
   ]
  },
  {
   "cell_type": "code",
   "execution_count": 35,
   "id": "2848108a",
   "metadata": {},
   "outputs": [
    {
     "name": "stdout",
     "output_type": "stream",
     "text": [
      "3/3 [==============================] - 0s 5ms/step - loss: 0.4649 - accuracy: 0.7647\n"
     ]
    }
   ],
   "source": [
    "test_loss, test_accuracy = model.evaluate(test_inputs, test_targets)"
   ]
  },
  {
   "cell_type": "code",
   "execution_count": 36,
   "id": "4ebe4418",
   "metadata": {},
   "outputs": [
    {
     "name": "stdout",
     "output_type": "stream",
     "text": [
      "\n",
      "Test loss: 0.46. Test accuracy: 76.47%\n"
     ]
    }
   ],
   "source": [
    "print('\\nTest loss: {0:.2f}. Test accuracy: {1:.2f}%'.format(test_loss, test_accuracy*100.))"
   ]
  },
  {
   "cell_type": "markdown",
   "id": "9e3e543d",
   "metadata": {},
   "source": [
    "## Obtain the probability  "
   ]
  },
  {
   "cell_type": "code",
   "execution_count": 37,
   "id": "2146a53c",
   "metadata": {},
   "outputs": [
    {
     "data": {
      "text/plain": [
       "array([[0.5880475 , 0.41195256],\n",
       "       [0.02084344, 0.9791566 ],\n",
       "       [0.84913146, 0.15086854],\n",
       "       [0.44876558, 0.5512344 ],\n",
       "       [0.66991717, 0.3300828 ],\n",
       "       [0.1453082 , 0.8546918 ],\n",
       "       [0.04481385, 0.9551861 ],\n",
       "       [0.9370826 , 0.06291735],\n",
       "       [0.2609915 , 0.7390085 ],\n",
       "       [0.77435285, 0.22564708],\n",
       "       [0.9663059 , 0.03369405],\n",
       "       [0.05465418, 0.94534576],\n",
       "       [0.95748526, 0.0425147 ],\n",
       "       [0.5925856 , 0.40741438],\n",
       "       [0.33074912, 0.6692509 ],\n",
       "       [0.07624041, 0.9237596 ],\n",
       "       [0.8398872 , 0.16011274],\n",
       "       [0.400087  , 0.59991306],\n",
       "       [0.77823764, 0.22176236],\n",
       "       [0.24181083, 0.75818914],\n",
       "       [0.7401833 , 0.25981677],\n",
       "       [0.05483229, 0.94516766],\n",
       "       [0.7443433 , 0.25565675],\n",
       "       [0.7927945 , 0.20720543],\n",
       "       [0.84293646, 0.15706354],\n",
       "       [0.10239004, 0.8976099 ],\n",
       "       [0.525507  , 0.47449303],\n",
       "       [0.8436092 , 0.15639076],\n",
       "       [0.23476936, 0.7652306 ],\n",
       "       [0.72865397, 0.271346  ],\n",
       "       [0.7312674 , 0.26873258],\n",
       "       [0.40965635, 0.59034365],\n",
       "       [0.14680485, 0.8531952 ],\n",
       "       [0.73027354, 0.26972643],\n",
       "       [0.8652654 , 0.13473457],\n",
       "       [0.76036835, 0.23963164],\n",
       "       [0.6859167 , 0.31408328],\n",
       "       [0.06605724, 0.9339427 ],\n",
       "       [0.08490321, 0.91509676],\n",
       "       [0.98753905, 0.01246095],\n",
       "       [0.95124745, 0.04875259],\n",
       "       [0.8219161 , 0.17808388],\n",
       "       [0.9723149 , 0.02768512],\n",
       "       [0.82326967, 0.17673041],\n",
       "       [0.8665212 , 0.13347879],\n",
       "       [0.6942367 , 0.30576324],\n",
       "       [0.00245301, 0.997547  ],\n",
       "       [0.25078034, 0.74921966],\n",
       "       [0.7953894 , 0.20461057],\n",
       "       [0.701195  , 0.29880506],\n",
       "       [0.73785   , 0.26215002],\n",
       "       [0.24482699, 0.75517297],\n",
       "       [0.42330673, 0.5766933 ],\n",
       "       [0.70740634, 0.29259372],\n",
       "       [0.14043716, 0.8595629 ],\n",
       "       [0.095317  , 0.904683  ],\n",
       "       [0.4827919 , 0.5172081 ],\n",
       "       [0.7119648 , 0.28803527],\n",
       "       [0.4435656 , 0.5564344 ],\n",
       "       [0.3944641 , 0.6055359 ],\n",
       "       [0.4703793 , 0.5296207 ],\n",
       "       [0.94352096, 0.05647907],\n",
       "       [0.60265696, 0.397343  ],\n",
       "       [0.58044595, 0.41955408],\n",
       "       [0.6009442 , 0.3990558 ],\n",
       "       [0.9092936 , 0.09070639],\n",
       "       [0.00421667, 0.9957833 ],\n",
       "       [0.03060661, 0.9693934 ]], dtype=float32)"
      ]
     },
     "execution_count": 37,
     "metadata": {},
     "output_type": "execute_result"
    }
   ],
   "source": [
    "model.predict(test_inputs)"
   ]
  },
  {
   "cell_type": "code",
   "execution_count": 38,
   "id": "ff8fdc1b",
   "metadata": {},
   "outputs": [
    {
     "data": {
      "text/plain": [
       "array([0., 1., 0., 1., 0., 1., 1., 0., 1., 0., 0., 1., 0., 0., 1., 1., 0.,\n",
       "       1., 0., 1., 0., 1., 0., 0., 0., 1., 0., 0., 1., 0., 0., 1., 1., 0.,\n",
       "       0., 0., 0., 1., 1., 0., 0., 0., 0., 0., 0., 0., 1., 1., 0., 0., 0.,\n",
       "       1., 1., 0., 1., 1., 1., 0., 1., 1., 1., 0., 0., 0., 0., 0., 1., 1.],\n",
       "      dtype=float32)"
      ]
     },
     "execution_count": 38,
     "metadata": {},
     "output_type": "execute_result"
    }
   ],
   "source": [
    "model.predict(test_inputs)[:,1].round(0)"
   ]
  },
  {
   "cell_type": "code",
   "execution_count": 39,
   "id": "dbffec94",
   "metadata": {},
   "outputs": [
    {
     "data": {
      "text/plain": [
       "array([0, 1, 0, 1, 0, 1, 1, 0, 1, 0, 0, 1, 0, 0, 1, 1, 0, 1, 0, 1, 0, 1,\n",
       "       0, 0, 0, 1, 0, 0, 1, 0, 0, 1, 1, 0, 0, 0, 0, 1, 1, 0, 0, 0, 0, 0,\n",
       "       0, 0, 1, 1, 0, 0, 0, 1, 1, 0, 1, 1, 1, 0, 1, 1, 1, 0, 0, 0, 0, 0,\n",
       "       1, 1], dtype=int64)"
      ]
     },
     "execution_count": 39,
     "metadata": {},
     "output_type": "execute_result"
    }
   ],
   "source": [
    "np.argmax(model.predict(test_inputs),axis=1)"
   ]
  },
  {
   "cell_type": "code",
   "execution_count": 40,
   "id": "fe9ab9d5",
   "metadata": {},
   "outputs": [],
   "source": [
    "model.save(\"C:/IFOOD/ifood_data_validation/audiobooks_model.h5\") "
   ]
  },
  {
   "cell_type": "code",
   "execution_count": null,
   "id": "8f53ad7f",
   "metadata": {},
   "outputs": [],
   "source": []
  }
 ],
 "metadata": {
  "kernelspec": {
   "display_name": "Python 3",
   "language": "python",
   "name": "python3"
  },
  "language_info": {
   "codemirror_mode": {
    "name": "ipython",
    "version": 3
   },
   "file_extension": ".py",
   "mimetype": "text/x-python",
   "name": "python",
   "nbconvert_exporter": "python",
   "pygments_lexer": "ipython3",
   "version": "3.8.8"
  }
 },
 "nbformat": 4,
 "nbformat_minor": 5
}
